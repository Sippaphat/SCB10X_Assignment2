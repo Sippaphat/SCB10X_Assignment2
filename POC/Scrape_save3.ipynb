{
 "cells": [
  {
   "cell_type": "code",
   "execution_count": 1,
   "metadata": {},
   "outputs": [],
   "source": [
    "# load necessary components\n",
    "from trafilatura import fetch_url, extract\n",
    "import re\n",
    "import os\n",
    "from selenium import webdriver\n",
    "from time import time\n",
    "\n",
    "from selenium.webdriver import Keys, ActionChains\n",
    "from selenium.webdriver.common.actions.action_builder import ActionBuilder\n",
    "from selenium.webdriver.common.by import By\n",
    "import requests\n",
    "from bs4 import BeautifulSoup\n",
    "import undetected_chromedriver as uc\n",
    "from selenium.webdriver.support.ui import WebDriverWait\n",
    "from selenium.webdriver.support import expected_conditions as EC\n",
    "from selenium.common.exceptions import NoSuchElementException\n",
    "from openai import OpenAI\n"
   ]
  },
  {
   "cell_type": "code",
   "execution_count": 2,
   "metadata": {},
   "outputs": [
    {
     "name": "stdout",
     "output_type": "stream",
     "text": [
      "รวมเมนูอาหาร สูตรอาหารล่าสุด\n",
      "เรียงตาม\n",
      "สูตรล่าสุด\n",
      "[เค้กโยเกิร์ต](recipes/yoghurt-cake)\n",
      "อ่าน 20 ครั้ง\n",
      "ชวนคนรักขนมหวานมาทำ “โยเกิร์ตเค้ก” เนื้อนุ่มฟูละมุนลิ้น ทำง่าย ๆ ใช้วัตถุดิบเพียงแค่ไม่กี่อย่าง ที่สำคัญมีไขมันต่ำ เป็นมิตรกับสุขภาพ ถูกใจสายเฮลตี!\n",
      "ส่วนผสม: แป้งมันสำปะหลังต้นสน, โยเกิร์ต, น้ำตาล, แป้งเค้ก, ไข่ไก่, ผลไม้สด, น้ำตาลไอซิ่ง, วิปครีมสูตรอาหารโดย\n",
      "กิน&GO\n",
      "[ข้าวหน้าไก่ราชวงศ์](recipes/rice-with-chicken-gravy)\n",
      "อ่าน 647 ครั้ง\n",
      "ชวนมาทำ “ข้าวหน้าไก่ราชวงศ์” ข้าวหน้าไก่สุดคลาสสิกสไตล์ร้านดัง ข้าวนุ่มหอมเต็มเมล็ด ราดน้ำฉ่ำ ๆ หอมยั่วใจ ไก่เนื้อนุ่มเน้น ๆ เต็มคำ ทำยังไงตามมาดูกันเลย!\n",
      "ส่วนผสม: เอโร่ ข้าวหอมปทุมธานี, ไก่, ซีอิ๊วขาว, ซีอิ๊วดำหวาน, พริกไทยป่น, แป้งข้าวโพด, แป้งข้าวโพด, น้ำมันงา, น้ำมันพืช, น้ำสต๊อก, ซอสปรุงรส, น้ำตาลทราย, พริกชี้ฟ้าเขียว, ผักชีสูตรอาหารโดย\n",
      "กิน&GO\n",
      "[เบอร์รีแฟลตครัวซองต์แซนด์วิช](recipes/berry-flat-croissant-sandwich)\n",
      "อ่าน 455 ครั้ง\n",
      "ปิดเทอมหน้าร้อนนี้ชวนเด็ก ๆ มาทำ “เบอร์รีแฟลตครัวซองต์แซนด์วิช” แป้งครัวซองต์แบนกรอบสุดฮิต สอดไส้ไอศกรีมและซอสมิกซ์เบอร์รี หวานฉ่ำกันทั้งครอบครัว!\n",
      "ส่วนผสม: ซูจอน ผลไม้แช่แข็งนิวซีแลนด์, น้ำตาลทราย, น้ำมะนาว, ครัวซองต์สำเร็จรูป, น้ำตาลทราย, เนย, ไอศกรีม, น้ำตาลไอซิ่ง, ใบสะระแหน่สูตรอาหารโดย\n",
      "กิน&GO\n",
      "[ข้าวอบกุนเชียง](recipes/chinese-sausage-baked-rice)\n",
      "อ่าน 1.1k ครั้ง\n",
      "อยากกิน “ข้าวอบกุนเชียง” ร้อน ๆ ไม่ต้องไปไหนไกล! แค่มีหม้อหุงข้าวก็ทำเองได้ง่าย ๆ ที่บ้าน ใส่เครื่องแน่น ๆ จุใจ ข้าวร่วนหอมเครื่องทุกคำ ทำยังไงมาดูกันเลยยย\n",
      "ส่วนผสม: เอโร่ ข้าวหอมผสม 30%:70% , น้ำเปล่า, กุนเชียงหั่นแว่น, เห็ดหอม, แปะก๊วย, แคร์รอตหั่นเต๋าเล็ก, คะน้าหั่นชิ้นเล็ก, ซอสปรุงรส, ซอสหอยนางรม, พริกไทยป่น, น้ำตาล, น้ำมันพืช, น้ำมันงาสูตรอาหารโดย\n",
      "กิน&GO\n",
      "[จาลาปีโนไบท์](recipes/jalapeno-bite)\n",
      "อ่าน 836 ครั้ง\n",
      "มาทำ “จาลาปีโนไบท์” เมนูกินเล่นที่มาพร้อมรสเผ็ดจี๊ดสไตล์เม็กซิกัน ถ้วยกรอบหอมเชดดาร์ชีส ไส้ก็แน่นเต็มคำ กินเพลินเกินห้ามใจสุด ๆ ต้องทำยังไงมาดูกันเลย!\n",
      "ส่วนผสม: เอโร่ พริกจาลาปีโนแช่แข็ง, ครีมชีส, เบคอน, เชดดาร์ชีส, ไข่ไก่, เกล็ดขนมปัง, พริกไทย, ปาปริก้า, ต้นหอมสูตรอาหารโดย\n",
      "กิน&GO\n",
      "[เส้นหมี่ไก่ฉีกคั่วกระเทียมพริกไทย](recipes/garlic-and-pepper-flavored-rice-noodles-with-shredded-chicken)\n",
      "อ่าน 2.5k ครั้ง\n",
      "หยุดยาวนี้ ใครกำลังมองหาเมนูที่กินในรถได้ง่าย ๆ ระหว่างไปเที่ยว มาทำ “เส้นหมี่ไก่ฉีกคั่วกระเทียมพริกไทย” กัน เมนูสุดฮิตรสเข้มข้น ใครได้ชิมต้องเลิฟ!\n",
      "ส่วนผสม: Lotus’s ไก่ปลอดสาร (อกไก่), เส้นหมี่, รากผักชี, กระเทียม, พริกไทยสูตรอาหารโดย\n",
      "กิน&GO\n",
      "[คิมบับหมูกระทะ](recipes/thai-barbecue-gimbap)\n",
      "อ่าน 813 ครั้ง\n",
      "สงกรานต์นี้มาอัปเกรดเมนูหมูกระทะกัน กับ “คิมบับหมูกระทะ” ไส้แน่น ได้รสน้ำจิ้มเข้าเนื้อ ปั้นห่อง่าย ๆ สนุกกันได้ทั้งครอบครัว ต้องทำยังไง มาดูกันเลย!\n",
      "ส่วนผสม: CP ชุดรวมหมูกระทะ, ข้าวญี่ปุ่น, น้ำสะอาด, น้ำมันงา, งาขาว, น้ำจิ้มสุกี้หรือน้ำจิ้มหมูกระทะ, แคร์รอต, ไชเท้าดอง, แตงกวาญี่ปุ่น, สาหร่ายสำหรับห่อข้าวสูตรอาหารโดย\n",
      "กิน&GO\n",
      "[แอปเปิลไซเดอร์ลาเต้](recipes/apple-cider-latte)\n",
      "อ่าน 1.4k ครั้ง\n",
      "เอาใจสายสุขภาพกับ “แอปเปิลไซเดอร์ลาเต้” กาแฟนมรสหวานละมุน พร้อมประโยชน์จากแอปเปิลไซเดอร์เน้น ๆ รสชาติกลมกล่อมดื่มง่าย ดื่มได้ทุกวัน!\n",
      "ส่วนผสม: ไฮนซ์ แอปเปิลไซเดอร์, กาแฟ, น้ำร้อน, นมโอ๊ต, น้ำผึ้ง, น้ำแข็ง, แอปเปิล, วิปครีมสูตรอาหารโดย\n",
      "กิน&GO\n",
      "[ข้าวผัดแซลมอน](recipes/japanese-salmon-fried-rice)\n",
      "อ่าน 1.6k ครั้ง\n",
      "อิ่มง่าย ๆ สไตล์ญี่ปุ่น กับเมนู “ข้าวผัดแซลมอน” ข้าวผัดหอมโชยุ เหนียวนุ่มเต็มเมล็ด พร้อมแซลมอนย่างชิ้นโตเต็ม ๆ คำ วิธีทำเป็นยังไงมาเข้าครัวกันเลย!\n",
      "ส่วนผสม: เอโร่ ข้าวญี่ปุ่นพันธุ์ซาซานิชิกิ, น้ำสะอาด, แซลมอนสเต๊ก, ต้นหอมซอย, กระเทียม, แคร์รอต, โชยุ, เกลือ, พริกไทยดำ, ไข่ไก่, น้ำมันสูตรอาหารโดย\n",
      "กิน&GO\n",
      "[ขนมใส่ไส้ดอกไม้](recipes/flower-shaped-kanom-sai-sai)\n",
      "อ่าน 2k ครั้ง\n",
      "ชวนคนรักขนมไทยมาทำ “ขนมใส่ไส้ดอกไม้” สูตรขนมใส่ไส้ประยุกต์ ทำง่ายกินง่าย สีสันสดใสน่ารัก เนื้อนุ่มละมุนลิ้น หยิบกินได้เพลิน ๆ หมดจานไม่รู้ตัว!\n",
      "ส่วนผสม: แป้งถั่วเขียวต้นสน, มะพร้าวทึนทึกขูดเส้น, น้ำตาลมะพร้าว, เกลือ, แป้งข้าวเหนียว, น้ำใบเตย, น้ำอัญชัน, น้ำอัญชันผสมมะนาว, กะทิ, แป้งข้าวเจ้า, น้ำตาลสูตรอาหารโดย\n",
      "กิน&GO\n",
      "เกร็ดความรู้เรื่องอาหาร\n",
      "[ดูทั้งหมด »](/food-tips)\n"
     ]
    }
   ],
   "source": [
    "from trafilatura import fetch_url, extract\n",
    "\n",
    "# The URL of the website to scrape\n",
    "url = \"https://www.wongnai.com/recipes\" \n",
    "\n",
    "# Fetch the HTML content of the webpage\n",
    "downloaded = fetch_url(url)\n",
    "\n",
    "# Extract URLs from the fetched content\n",
    "result = extract(downloaded, include_links=True)\n",
    "\n",
    "print(result)"
   ]
  },
  {
   "cell_type": "code",
   "execution_count": 3,
   "metadata": {},
   "outputs": [
    {
     "name": "stdout",
     "output_type": "stream",
     "text": [
      "['recipes/yoghurt-cake', 'recipes/rice-with-chicken-gravy', 'recipes/berry-flat-croissant-sandwich', 'recipes/chinese-sausage-baked-rice', 'recipes/jalapeno-bite', 'recipes/garlic-and-pepper-flavored-rice-noodles-with-shredded-chicken', 'อกไก่', 'recipes/thai-barbecue-gimbap', 'recipes/apple-cider-latte', 'recipes/japanese-salmon-fried-rice', 'recipes/flower-shaped-kanom-sai-sai', '/food-tips']\n"
     ]
    }
   ],
   "source": [
    "import re\n",
    "\n",
    "pattern = r'\\(([^)]+)\\)'\n",
    "\n",
    "links = re.findall(pattern, result)\n",
    "print(links)"
   ]
  },
  {
   "cell_type": "code",
   "execution_count": 4,
   "metadata": {},
   "outputs": [
    {
     "data": {
      "text/plain": [
       "['recipes/yoghurt-cake',\n",
       " 'recipes/rice-with-chicken-gravy',\n",
       " 'recipes/berry-flat-croissant-sandwich',\n",
       " 'recipes/chinese-sausage-baked-rice',\n",
       " 'recipes/jalapeno-bite',\n",
       " 'recipes/garlic-and-pepper-flavored-rice-noodles-with-shredded-chicken',\n",
       " 'อกไก่',\n",
       " 'recipes/thai-barbecue-gimbap',\n",
       " 'recipes/apple-cider-latte',\n",
       " 'recipes/japanese-salmon-fried-rice',\n",
       " 'recipes/flower-shaped-kanom-sai-sai',\n",
       " '/food-tips']"
      ]
     },
     "execution_count": 4,
     "metadata": {},
     "output_type": "execute_result"
    }
   ],
   "source": [
    "links"
   ]
  },
  {
   "cell_type": "code",
   "execution_count": 5,
   "metadata": {},
   "outputs": [
    {
     "name": "stdout",
     "output_type": "stream",
     "text": [
      "['recipes/yoghurt-cake', 'recipes/rice-with-chicken-gravy', 'recipes/berry-flat-croissant-sandwich', 'recipes/chinese-sausage-baked-rice', 'recipes/jalapeno-bite', 'recipes/garlic-and-pepper-flavored-rice-noodles-with-shredded-chicken', 'recipes/thai-barbecue-gimbap', 'recipes/apple-cider-latte', 'recipes/japanese-salmon-fried-rice', 'recipes/flower-shaped-kanom-sai-sai', '/food-tips']\n"
     ]
    }
   ],
   "source": [
    "url_pattern = re.compile(r'^(recipes/|/food-tips)')\n",
    "\n",
    "# Filter out only URLs\n",
    "urls = [item for item in links if url_pattern.match(item)]\n",
    "\n",
    "print(urls)"
   ]
  },
  {
   "cell_type": "code",
   "execution_count": 6,
   "metadata": {},
   "outputs": [
    {
     "data": {
      "text/plain": [
       "'/food-tips'"
      ]
     },
     "execution_count": 6,
     "metadata": {},
     "output_type": "execute_result"
    }
   ],
   "source": [
    "urls.pop(-1)"
   ]
  },
  {
   "cell_type": "code",
   "execution_count": 7,
   "metadata": {},
   "outputs": [
    {
     "data": {
      "text/plain": [
       "['recipes/yoghurt-cake',\n",
       " 'recipes/rice-with-chicken-gravy',\n",
       " 'recipes/berry-flat-croissant-sandwich',\n",
       " 'recipes/chinese-sausage-baked-rice',\n",
       " 'recipes/jalapeno-bite',\n",
       " 'recipes/garlic-and-pepper-flavored-rice-noodles-with-shredded-chicken',\n",
       " 'recipes/thai-barbecue-gimbap',\n",
       " 'recipes/apple-cider-latte',\n",
       " 'recipes/japanese-salmon-fried-rice',\n",
       " 'recipes/flower-shaped-kanom-sai-sai']"
      ]
     },
     "execution_count": 7,
     "metadata": {},
     "output_type": "execute_result"
    }
   ],
   "source": [
    "urls"
   ]
  },
  {
   "cell_type": "code",
   "execution_count": 8,
   "metadata": {},
   "outputs": [
    {
     "name": "stdout",
     "output_type": "stream",
     "text": [
      "มาโชว์ฝีมือระดับเหลากันกับ “ข้าวหน้าไก่ราชวงศ์” เมนูสุดคลาสสิกฉบับร้านดังในตำนาน ราดน้ำฉ่ำ ๆ พร้อมเนื้อไก่นุ่ม ๆ รสเข้มข้นเข้าเนื้อ เสิร์ฟพร้อมข้าวสวยร้อน ๆ แค่นี้ก็น้ำลายสอแล้วค่ะ โดยวันนี้เราจะใช้ เอโร่ ข้าวหอมปทุมธานี ที่มีความนุ่ม หอม หุงง่าย สวยเป็นเมล็ด แถมราคาประหยัดอีกต่างหาก ใครจะเอาสูตรข้าวหน้าไก่ราชวงศ์แบบนี้ไปทำขายก็ขอแนะนำเลยค่ะ ถ้าเพื่อน ๆ อยากรู้วิธีทำกันแล้วก็มาเข้าครัวกันเลย!\n",
      "วัตถุดิบ\n",
      "เอโร่ ข้าวหอมปทุมธานี 200 กรัม\n",
      "-\n",
      "ไก่ 1 กิโลกรัม\n",
      "-\n",
      "ซีอิ๊วขาว (สำหรับน้ำราด) 2 ช้อนโต๊ะ\n",
      "-\n",
      "ซีอิ๊วขาว (สำหรับหมัก) 1 ช้อนโต๊ะ\n",
      "-\n",
      "ซีอิ๊วดำหวาน 3 ช้อนโต๊ะ\n",
      "-\n",
      "พริกไทยป่น 1 ช้อนชา\n",
      "-\n",
      "แป้งข้าวโพด (สำหรับหมัก) 2 ช้อนโต๊ะ\n",
      "-\n",
      "แป้งข้าวโพด 7 ช้อนโต๊ะ\n",
      "-\n",
      "น้ำมันงา 2 ช้อนโต๊ะ\n",
      "-\n",
      "น้ำมันพืช 50 มิลลิลิตร\n",
      "-\n",
      "น้ำสต๊อก 1,600 มิลลิลิตร\n",
      "-\n",
      "ซอสปรุงรส 1 ช้อนโต๊ะ\n",
      "-\n",
      "น้ำตาลทราย 3 ช้อนโต๊ะ\n",
      "-\n",
      "พริกชี้ฟ้าเขียว สำหรับเสิร์ฟเคียง\n",
      "-\n",
      "ผักชี สำหรับเสิร์ฟเคียง\n",
      "-\n",
      "วิธีทำ\n",
      "STEP 1 : หมักไก่และหุงข้าว\n",
      "หั่นอกไก่เป็นชิ้นขนาดพอดีคำ จากนั้นนำไปหมักกับซีอิ๊วขาว ซีอิ๊วดำหวาน พริกไทยป่น และแป้งข้าวโพด พักไว้ 15 นาที\n",
      "-\n",
      "ซาว เอโร่ ข้าวหอมปทุมธานี ให้สะอาด จากนั้นใส่น้ำ1.3-1.5 ส่วน ต่อข้าว 1 ส่วน และนำไปหุงให้สุก\n",
      "-\n",
      "STEP 2 : ทำหน้าไก่\n",
      "ตั้งกระทะใบใหญ่ใส่น้ำมันพืชและน้ำมันงา ใส่ไก่ที่หมักไว้ลงผัดด้วยไฟกลางจนสุกดี ใส่น้ำสต๊อก พอเดือด คอยช้อนฟองออกให้น้ำใส\n",
      "-\n",
      "ปรุงรสด้วยซีอิ๊วขาว ซอสปรุงรส และน้ำตาลทราย เคี่ยวไฟกลางเป็นเวลา 25 นาที\n",
      "-\n",
      "ละลายแป้งข้าวโพดกับน้ำสะอาด ค่อย ๆ เทใส่ลงไป คนเร็ว ๆ ให้แป้งไม่จับตัวเป็นก้อน แล้วเคี่ยวจนน้ำข้นและใสดี\n",
      "-\n",
      "STEP 3 : จัดเสิร์ฟ\n",
      "ตักเสิร์ฟหน้าไก่กับ เอโร่ ข้าวหอมปทุมธานี ที่หุงไว้ เคียงด้วยพริกชี้ฟ้าเขียวหั่นแว่นและผักชี\n",
      "-\n",
      "วิธีทำ “ข้าวหน้าไก่ราชวงศ์” ไม่ยากเลยใช่ไหมคะ ข้าวสวยร้อน ๆ มาพร้อมน้ำราดหน้าไก่ชุ่มฉ่ำ ตักเข้าปากเต็ม ๆ คำ ได้รสชาติกลมกล่อมถูกใจ กินเพลินจนคำสุดท้ายเลยละค่ะ เอโร่ ข้าวหอมปทุมธานี ก็หอมนุ่มกำลังดี ได้รสสัมผัสที่ดีกว่าข้าวขาวทั่ว ๆ ไป เหมาะกับทำเป็นข้าวสวยแบบนี้มาก ๆ ทั้งหอม นุ่ม ทั้งคุ้มค่า กินกับเมนูไหนก็เข้ากัน ไม่ว่าจะเอาวิธีทำข้าวหน้าไก่ราชวงศ์สูตรนี้ไปทำกินที่บ้าน หรือจะลองไปขาย ก็ขอแนะนำ เอโร่ ข้าวหอมปทุมธานี ถุงนี้เลยค่ะ แค่แวะไปที่แม็คโครสาขาใกล้บ้านก็หาซื้อได้แล้ว แถมยังมีวัตถุดิบให้เลือกครบครันอีกด้วย หรือจะสั่งออนไลน์ที่แอป Makro Pro ก็สะดวกมาก ๆ แล้วเรากลับมาเจอกันใหม่เมนูหน้านะคะ วันนี้ขอตัวลาไปก่อน บ๊ายบายค่าา~\n"
     ]
    }
   ],
   "source": [
    "# download a web page\n",
    "url = 'https://www.wongnai.com/recipes/rice-with-chicken-gravy'\n",
    "downloaded = fetch_url(url)\n",
    "downloaded is None  # assuming the download was successful\n",
    "\n",
    "\n",
    "# extract information from HTML\n",
    "result = extract(downloaded)\n",
    "print(result)"
   ]
  },
  {
   "cell_type": "code",
   "execution_count": 9,
   "metadata": {},
   "outputs": [],
   "source": [
    "by_line = result.split('\\n')\n",
    "by_line = [line for line in by_line if line.strip() != '-']"
   ]
  },
  {
   "cell_type": "code",
   "execution_count": 10,
   "metadata": {},
   "outputs": [
    {
     "data": {
      "text/plain": [
       "['ข้าวหน้าไก่ราชวงศ์']"
      ]
     },
     "execution_count": 10,
     "metadata": {},
     "output_type": "execute_result"
    }
   ],
   "source": [
    "re.findall(r'“(.*?)”', by_line[0])"
   ]
  },
  {
   "cell_type": "code",
   "execution_count": 11,
   "metadata": {},
   "outputs": [],
   "source": [
    "def get_wongnai_recipe(by_line):\n",
    "    recipes = []\n",
    "    collecting_ingredients = False\n",
    "\n",
    "    for line in by_line:\n",
    "        if line == 'วัตถุดิบ':\n",
    "            collecting_ingredients = True\n",
    "        elif line == 'วิธีทำ':\n",
    "            break\n",
    "        elif collecting_ingredients:\n",
    "            recipes.append(line)\n",
    "\n",
    "    return recipes"
   ]
  },
  {
   "cell_type": "code",
   "execution_count": 12,
   "metadata": {},
   "outputs": [],
   "source": [
    "def get_wongnai_method(by_line):\n",
    "    recipes = []\n",
    "    collecting_ingredients = False\n",
    "\n",
    "    for line in by_line:\n",
    "        if line == 'วิธีทำ':\n",
    "            collecting_ingredients = True\n",
    "        elif collecting_ingredients:\n",
    "            recipes.append(line)\n",
    "\n",
    "    return recipes"
   ]
  },
  {
   "cell_type": "code",
   "execution_count": 13,
   "metadata": {},
   "outputs": [],
   "source": [
    "recipes = get_wongnai_recipe(by_line)"
   ]
  },
  {
   "cell_type": "code",
   "execution_count": 14,
   "metadata": {},
   "outputs": [
    {
     "data": {
      "text/plain": [
       "['เอโร่ ข้าวหอมปทุมธานี 200 กรัม',\n",
       " 'ไก่ 1 กิโลกรัม',\n",
       " 'ซีอิ๊วขาว (สำหรับน้ำราด) 2 ช้อนโต๊ะ',\n",
       " 'ซีอิ๊วขาว (สำหรับหมัก) 1 ช้อนโต๊ะ',\n",
       " 'ซีอิ๊วดำหวาน 3 ช้อนโต๊ะ',\n",
       " 'พริกไทยป่น 1 ช้อนชา',\n",
       " 'แป้งข้าวโพด (สำหรับหมัก) 2 ช้อนโต๊ะ',\n",
       " 'แป้งข้าวโพด 7 ช้อนโต๊ะ',\n",
       " 'น้ำมันงา 2 ช้อนโต๊ะ',\n",
       " 'น้ำมันพืช 50 มิลลิลิตร',\n",
       " 'น้ำสต๊อก 1,600 มิลลิลิตร',\n",
       " 'ซอสปรุงรส 1 ช้อนโต๊ะ',\n",
       " 'น้ำตาลทราย 3 ช้อนโต๊ะ',\n",
       " 'พริกชี้ฟ้าเขียว สำหรับเสิร์ฟเคียง',\n",
       " 'ผักชี สำหรับเสิร์ฟเคียง']"
      ]
     },
     "execution_count": 14,
     "metadata": {},
     "output_type": "execute_result"
    }
   ],
   "source": [
    "recipes"
   ]
  },
  {
   "cell_type": "code",
   "execution_count": 15,
   "metadata": {},
   "outputs": [],
   "source": [
    "method = get_wongnai_method(by_line)"
   ]
  },
  {
   "cell_type": "code",
   "execution_count": 16,
   "metadata": {},
   "outputs": [
    {
     "data": {
      "text/plain": [
       "['STEP 1 : หมักไก่และหุงข้าว',\n",
       " 'หั่นอกไก่เป็นชิ้นขนาดพอดีคำ จากนั้นนำไปหมักกับซีอิ๊วขาว ซีอิ๊วดำหวาน พริกไทยป่น และแป้งข้าวโพด พักไว้ 15 นาที',\n",
       " 'ซาว เอโร่ ข้าวหอมปทุมธานี ให้สะอาด จากนั้นใส่น้ำ1.3-1.5 ส่วน ต่อข้าว 1 ส่วน และนำไปหุงให้สุก',\n",
       " 'STEP 2 : ทำหน้าไก่',\n",
       " 'ตั้งกระทะใบใหญ่ใส่น้ำมันพืชและน้ำมันงา ใส่ไก่ที่หมักไว้ลงผัดด้วยไฟกลางจนสุกดี ใส่น้ำสต๊อก พอเดือด คอยช้อนฟองออกให้น้ำใส',\n",
       " 'ปรุงรสด้วยซีอิ๊วขาว ซอสปรุงรส และน้ำตาลทราย เคี่ยวไฟกลางเป็นเวลา 25 นาที',\n",
       " 'ละลายแป้งข้าวโพดกับน้ำสะอาด ค่อย ๆ เทใส่ลงไป คนเร็ว ๆ ให้แป้งไม่จับตัวเป็นก้อน แล้วเคี่ยวจนน้ำข้นและใสดี',\n",
       " 'STEP 3 : จัดเสิร์ฟ',\n",
       " 'ตักเสิร์ฟหน้าไก่กับ เอโร่ ข้าวหอมปทุมธานี ที่หุงไว้ เคียงด้วยพริกชี้ฟ้าเขียวหั่นแว่นและผักชี',\n",
       " 'วิธีทำ “ข้าวหน้าไก่ราชวงศ์” ไม่ยากเลยใช่ไหมคะ ข้าวสวยร้อน ๆ มาพร้อมน้ำราดหน้าไก่ชุ่มฉ่ำ ตักเข้าปากเต็ม ๆ คำ ได้รสชาติกลมกล่อมถูกใจ กินเพลินจนคำสุดท้ายเลยละค่ะ เอโร่ ข้าวหอมปทุมธานี ก็หอมนุ่มกำลังดี ได้รสสัมผัสที่ดีกว่าข้าวขาวทั่ว ๆ ไป เหมาะกับทำเป็นข้าวสวยแบบนี้มาก ๆ ทั้งหอม นุ่ม ทั้งคุ้มค่า กินกับเมนูไหนก็เข้ากัน ไม่ว่าจะเอาวิธีทำข้าวหน้าไก่ราชวงศ์สูตรนี้ไปทำกินที่บ้าน หรือจะลองไปขาย ก็ขอแนะนำ เอโร่ ข้าวหอมปทุมธานี ถุงนี้เลยค่ะ แค่แวะไปที่แม็คโครสาขาใกล้บ้านก็หาซื้อได้แล้ว แถมยังมีวัตถุดิบให้เลือกครบครันอีกด้วย หรือจะสั่งออนไลน์ที่แอป Makro Pro ก็สะดวกมาก ๆ แล้วเรากลับมาเจอกันใหม่เมนูหน้านะคะ วันนี้ขอตัวลาไปก่อน บ๊ายบายค่าา~']"
      ]
     },
     "execution_count": 16,
     "metadata": {},
     "output_type": "execute_result"
    }
   ],
   "source": [
    "method"
   ]
  },
  {
   "cell_type": "code",
   "execution_count": 17,
   "metadata": {},
   "outputs": [],
   "source": [
    "class Agent:\n",
    "    def __init__(self, model_con : str, api_key :str, menu : list[str],recipes : list[str], method : list[str]):\n",
    "        self.api_key = api_key\n",
    "        self.menu = menu\n",
    "        self.recipes = recipes\n",
    "        self.method = method\n",
    "        self.model_con = model_con\n",
    "    def select_model(self):\n",
    "        if self.model_con == \"typhoon\":\n",
    "            print(\"Using Typhoon model\")\n",
    "            self.client = OpenAI(api_key=self.api_key, base_url=\"https://api.opentyphoon.ai/v1\")\n",
    "        else:\n",
    "            print(\"No model selected\")\n",
    "    def get_response(self, user_prompt : str, model = \"typhoon-instruct\", max_tokens = 1000, temperature = 1.0, top_p = 0.1):\n",
    "        self.select_model()\n",
    "        messages = [\n",
    "        {\"role\": \"system\", \"content\": \"You are a helpful assistant.\"},\n",
    "        {\"role\": \"user\", \"content\": user_prompt},\n",
    "    ]\n",
    "        response = self.client.chat.completions.create(\n",
    "            model=model,\n",
    "            messages=messages,\n",
    "            max_tokens=max_tokens,\n",
    "            temperature=temperature,\n",
    "            top_p=top_p,\n",
    "        )\n",
    "        content = response.choices[0].message.content\n",
    "        return content\n",
    "    \n",
    "    def gen_question(self):\n",
    "        user_prompt = f\"\"\"\n",
    "        You are a recipe assessment expert. Your task is to create insightful multiple-choice questions (MCQs) in Thai that assess a user's comprehension of a given recipe and the cooking techniques involved.\n",
    "\n",
    "        Input:\n",
    "\n",
    "        * Recipe Name: {self.menu}\n",
    "        * Ingredients: {self.recipes}\n",
    "        * Instructions/Method: {self.method}\n",
    "\n",
    "        Output: \n",
    "\n",
    "        Generate 3-5 MCQs that cover these areas:\n",
    "\n",
    "        1. Ingredient Knowledge: Questions about ingredient substitutions, their functions in the dish, or how to select high-quality ingredients.\n",
    "        2. Technique Understanding: Questions about specific cooking methods used in the recipe, their purpose, or potential challenges/troubleshooting.\n",
    "        3. Recipe Comprehension: Questions about the overall process, the order of steps, or the reasoning behind certain instructions.\n",
    "        4. Food Safety: Questions (where applicable) about safe handling practices, temperature checks, or storage instructions.\n",
    "\n",
    "        Each MCQ should have:\n",
    "\n",
    "        * A clear and concise question stem.\n",
    "        * 4 answer choices (a, b, c, d) with only ONE correct answer.\n",
    "        * A brief explanation of the correct answer, highlighting key points from the recipe or general cooking knowledge.\n",
    "        \n",
    "        This is a sample format for the MCQs (dictionary format):\n",
    "        * \"question\": \"คำในข้อใดต่อไปนี้สะกดถูกต้องทุกคำ\", \"a\": \"ผู้เรียน กฎ บันได เที่ยวอนุญาต\", \"b\": \"ไล่เลี่ยง ซึมเซ่บ แกงบวช สถิต นกอินทรีย์\", \"c\": \"อัตราคัด โล่ห์ ขบถ นกพิราบ เส้นทแยง\", \"d\": \"สำปรางแช่ง โขมย อะไหล่ อุโมงก์ โอกาส\", \"e\": \"ไข่มุก ผักคะน้า มุกตลก กะเทยะ รสแซ่บ\", \"answer\": \"e\", \"subject\": \"Thai\"\n",
    "        \"\"\"\n",
    "        mcq = self.get_response(user_prompt)\n",
    "        return mcq\n",
    "        \n",
    "        \n",
    "        \n",
    "        \n",
    "        "
   ]
  },
  {
   "cell_type": "code",
   "execution_count": 18,
   "metadata": {},
   "outputs": [],
   "source": [
    "Typhoon_API_KEY = \"sk-eRXr8uXlfzhTn63Jr2txVkVXZrc106WR1Xuzh4xPuSwZKOdg\""
   ]
  },
  {
   "cell_type": "code",
   "execution_count": 19,
   "metadata": {},
   "outputs": [],
   "source": [
    "import time\n",
    "from tqdm.notebook import tqdm"
   ]
  },
  {
   "cell_type": "code",
   "execution_count": 20,
   "metadata": {},
   "outputs": [
    {
     "data": {
      "application/vnd.jupyter.widget-view+json": {
       "model_id": "ae41c5912dfa41e88dac92a405b0cc17",
       "version_major": 2,
       "version_minor": 0
      },
      "text/plain": [
       "  0%|          | 0/10 [00:00<?, ?it/s]"
      ]
     },
     "metadata": {},
     "output_type": "display_data"
    },
    {
     "name": "stdout",
     "output_type": "stream",
     "text": [
      "Processing recipes/yoghurt-cake\n",
      "Using Typhoon model\n",
      "Processing recipes/rice-with-chicken-gravy\n",
      "Using Typhoon model\n",
      "Processing recipes/berry-flat-croissant-sandwich\n",
      "Using Typhoon model\n",
      "Processing recipes/chinese-sausage-baked-rice\n",
      "Using Typhoon model\n",
      "Processing recipes/jalapeno-bite\n",
      "Using Typhoon model\n",
      "Processing recipes/garlic-and-pepper-flavored-rice-noodles-with-shredded-chicken\n",
      "Using Typhoon model\n",
      "Processing recipes/thai-barbecue-gimbap\n",
      "Using Typhoon model\n",
      "Processing recipes/apple-cider-latte\n",
      "Using Typhoon model\n",
      "Processing recipes/japanese-salmon-fried-rice\n",
      "Using Typhoon model\n",
      "Processing recipes/flower-shaped-kanom-sai-sai\n",
      "Using Typhoon model\n"
     ]
    }
   ],
   "source": [
    "mcqs = []\n",
    "for url in tqdm(urls):\n",
    "    try:\n",
    "        print(f\"Processing {url}\")\n",
    "        full_url = f\"https://www.wongnai.com/{url}\"\n",
    "        downloaded = fetch_url(full_url)\n",
    "        result = extract(downloaded)\n",
    "        by_line = result.split('\\n')\n",
    "        by_line = [line for line in by_line if line.strip() != '-']\n",
    "        menu = re.findall(r'“(.*?)”', by_line[0])\n",
    "        recipes = get_wongnai_recipe(by_line)\n",
    "        method = get_wongnai_method(by_line)\n",
    "        time.sleep(5)\n",
    "        agent = Agent(model_con = \"typhoon\", api_key = Typhoon_API_KEY, menu = menu, recipes = recipes, method = method)\n",
    "        mcq = agent.gen_question()\n",
    "        mcqs.append(mcq)\n",
    "    except Exception as e:\n",
    "        print(f\"Error processing {url}\")\n",
    "        print(e)\n",
    "        continue"
   ]
  },
  {
   "cell_type": "code",
   "execution_count": 26,
   "metadata": {},
   "outputs": [
    {
     "name": "stdout",
     "output_type": "stream",
     "text": [
      "1. Ingredient Knowledge:\n",
      "* คำถาม: ในสูตรโยเกิร์ตเค้กนี้ แป้งมันสำปะหลังต้นสนมีหน้าที่สำคัญอย่างไร?\n",
      "\t+ a) เพิ่มความหวานให้กับเค้ก\n",
      "\t+ b) ช่วยทำให้เค้กนุ่มฟู\n",
      "\t+ c) ทำให้เค้กมีกลิ่นหอมเฉพาะตัว\n",
      "\t+ d) ทำให้น้ำตาลละลายได้ดีขึ้น\n",
      "* คำตอบ: b) ช่วยทำให้เค้กนุ่มฟู\n",
      "* สามารถอธิบายได้ว่า แป้งมันสำปะหลังต้นสนเป็นส่วนประกอบที่สำคัญในการทำเค้ก เพราะมันช่วยเพิ่มปริมาณแก๊สที่ทำให้เค้กขยายตัวและทำให้เนื้อเค้กมีความนุ่มฟู\n",
      "\n",
      "2. Technique Understanding:\n",
      "* คำถาม: การตีไข่ขาวให้ขึ้นฟองก่อนการผสมกับส่วนผสมอื่นๆ มีประโยชน์อย่างไร?\n",
      "\t+ a) เพื่อให้เค้กมีสีสันที่สวยงาม\n",
      "\t+ b) เพื่อให้เค้กมีรสชาติที่หวานมากขึ้น\n",
      "\t+ c) เพื่อให้เค้กมีเนื้อสัมผัสที่นุ่มฟู\n",
      "\t+ d) เพื่อให้เค้กมีกลิ่นหอมเฉพาะตัว\n",
      "* คำตอบ: c) เพื่อให้เค้กมีเนื้อสัมผัสที่นุ่มฟู\n",
      "* สามารถอธิบายได้ว่า การตีไข่ขาวให้ขึ้นฟองเป็นการเพิ่มปริมาณแก๊สในเค้ก ซึ่งจะช่วยให้เค้กมีเนื้อสัมผัสที่นุ่มฟูและไม่ยุ่ย\n",
      "\n",
      "3. Recipe Comprehension:\n",
      "* คำถาม: ในการทำโยเกิร์ตเค้ก ควรเริ่มขั้นตอนไหนเป็นคนแรก?\n",
      "\t+ a) แบ่งไข่ขาวและไข่แดง\n",
      "\t+ b) เทส่วนผสมเค้กโยเกิร์ตลงในพิมพ์\n",
      "\t+ c) ตีส่วนผสมโยเกิร์ตเค้ก\n",
      "\t+ d) วางพิมพ์บนถาดอบก้นลึก\n",
      "* คำตอบ: c) ตีส่วนผสมโยเกิร์ตเค้ก\n",
      "* สามารถอธิบายได้ว่า การเริ่มด้วยการตีส่วนผสมโยเกิร์ตเค้กจะทำให้เราสามารถควบคุมคุณภาพของเค้กได้ดีที่สุด โดยไม่ต้องกังวลว่าจะเกิดฟองอากาศที่ไม่ต้องการ\n",
      "\n",
      "4. Food Safety:\n",
      "* คำถาม: หลังจากอบโยเกิร์ตเค้กเสร็จ ควรรอให้เค้กเย็นลงก่อนหรือไม่?\n",
      "\t+ a) ไม่จำเป็นต้องรอ ให้รับประทานได้เลย\n",
      "\t+ b) ควรรอให้เค้กอุ่นๆ ก่อนจึงค่อยรับประทาน\n",
      "\t+ c) ควรรอให้เค้กเย็นลงก่อนจึงค่อยรับประทาน\n",
      "\t+ d) ควรรอให้เค้กเย็นลงก่อน แต่ถ้ารีบทานจะได้รสชาติที่ดีกว่า\n",
      "* คำตอบ: c) ควรรอให้เค้กเย็นลงก่อนจึงค่อยรับประทาน\n",
      "* สามารถอธิบายได้ว่า การรอให้เค้กเย็นลงก่อนรับประทาน จะช่วยให้เนื้อเค้กคงสภาพและรสชาติที่ดีที่สุด นอกจากนี้ยังป้องกันการเผชิญความร้อนจากการอบที่อาจทำให้เกิดอันตราย\n",
      "\n",
      "5. Ingredient Knowledge:\n",
      "* คำถาม: ถ้าไม่มีโยเกิร์ตในบ้าน เราสามารถใช้อะไรแทนได้บ้าง?\n",
      "\t+ a) น้ำเปล่า\n",
      "\t+ b) ครีมชีส\n",
      "\t+ c) เนยแข็ง\n",
      "\t+ d) วิปปิ้งครีม\n",
      "* คำตอบ: b) ครีมชีส\n",
      "* สามารถอธิบายได้ว่า ความนุ่มและความยืดหยุ่นของครีมชีสสามารถทดแทนคุณสมบัติของโยเกิร์ตได้ในบางกรณี แต่ควรปรับเปลี่ยนปริมาณและวิธีการผสมเพื่อให้ได้ผลลัพธ์ใกล้เคียงกับสูตรเดิมมากที่สุด\n"
     ]
    }
   ],
   "source": [
    "print(mcqs[0])"
   ]
  },
  {
   "cell_type": "code",
   "execution_count": 33,
   "metadata": {},
   "outputs": [],
   "source": [
    "import re\n",
    "\n",
    "def extract_exam_items(text):\n",
    "  \"\"\"Extracts exam items from Thai text and returns them as a list of dictionaries.\n",
    "\n",
    "  Args:\n",
    "      text: The text containing the exam items.\n",
    "\n",
    "  Returns:\n",
    "      A list of dictionaries, each representing an exam item.\n",
    "  \"\"\"\n",
    "\n",
    "  # Regular expressions for extracting different parts of the exam items\n",
    "  question_pattern = r\"คำถาม:\\s*(.+)\"\n",
    "  choice_pattern = r\"\\+\\s*([a-d])\\)\\s*(.+)\"\n",
    "  answer_pattern = r\"คำตอบ:\\s*([a-d])\\)\\s*(.+)\"\n",
    "\n",
    "  # Find all questions in the text\n",
    "  question_matches = re.finditer(question_pattern, text)\n",
    "\n",
    "  exam_items = []\n",
    "  for question_match in question_matches:\n",
    "    item = {\n",
    "        \"question\": question_match.group(1).strip(),\n",
    "        \"a\": \"\",\n",
    "        \"b\": \"\",\n",
    "        \"c\": \"\",\n",
    "        \"d\": \"\",\n",
    "        \"answer\": \"\",\n",
    "        \"subject\": \"Thai food\"\n",
    "    }\n",
    "\n",
    "    # Find choices and answer for the current question\n",
    "    start = question_match.end()\n",
    "    end = text.find(\"คำถาม:\", start) if text.find(\"คำถาม:\", start) != -1 else len(text)\n",
    "    question_text = text[start:end]\n",
    "\n",
    "    for choice_match in re.finditer(choice_pattern, question_text):\n",
    "      item[choice_match.group(1)] = choice_match.group(2).strip()\n",
    "\n",
    "    answer_match = re.search(answer_pattern, question_text)\n",
    "    if answer_match:\n",
    "      item[\"answer\"] = answer_match.group(1)\n",
    "\n",
    "    exam_items.append(item)\n",
    "\n",
    "  return exam_items"
   ]
  },
  {
   "cell_type": "code",
   "execution_count": 59,
   "metadata": {},
   "outputs": [],
   "source": [
    "import json"
   ]
  },
  {
   "cell_type": "code",
   "execution_count": 70,
   "metadata": {},
   "outputs": [],
   "source": [
    "import json\n",
    "\n",
    "def extract_valid_json(items):\n",
    "    \"\"\"Extracts valid JSON objects from a list of strings.\"\"\"\n",
    "    valid_json_objects = []\n",
    "    for item in items:\n",
    "        # Attempt to load the item as JSON\n",
    "        try:\n",
    "            loaded_json = json.loads(item)  # Attempt to load as full JSON first\n",
    "            valid_json_objects.append(loaded_json)\n",
    "        except json.JSONDecodeError:  #If not, try to create a JSON\n",
    "            for i in range(len(item)):\n",
    "                try:\n",
    "                    loaded_json = json.loads(\"{\" + str(item[i:]) + \"}\")\n",
    "                    valid_json_objects.append(loaded_json)\n",
    "                    break  # Stop if a valid JSON is found\n",
    "                except json.JSONDecodeError:\n",
    "                    continue  # Try the next substring if not valid\n",
    "    return valid_json_objects\n",
    "\n",
    "\n",
    "items = extract_valid_json(mcqs[1].split(\"*\")) \n"
   ]
  },
  {
   "cell_type": "code",
   "execution_count": 69,
   "metadata": {},
   "outputs": [
    {
     "name": "stdout",
     "output_type": "stream",
     "text": [
      "[{'คำถาม': 'ส่วนผสมใดใช้ในการหมักไก่?', 'a': 'ซีอิ๊วขาว, ซีอิ๊วดำหวาน, พริกไทยป่น, แป้งข้าวโพด', 'b': 'น้ำมันงา, น้ำมันพืช, น้ำสต๊อก, ซอสปรุงรส', 'c': 'น้ำตาลทราย, พริกชี้ฟ้าเขียว, ผักชี, เอโร่ ข้าวหอมปทุมธานี', 'd': 'ไข่ไก่, กระเทียม, มิริน, หอมหัวใหญ่', 'answer': 'a', 'subject': 'Ingredient Knowledge'}, {'คำถาม': 'การทอดไก่ควรใช้ความร้อนระดับใด?', 'a': 'ต่ำ', 'b': 'ปานกลาง', 'c': 'สูง', 'd': 'สุดยอด', 'answer': 'b', 'subject': 'Technique Understanding'}, {'คำถาม': 'ขั้นตอนการทำข้าวหน้าไก่ราชวงศ์คืออะไรบ้าง?', 'a': 'หมักไก่, หุงข้าว, ทำหน้าไก่, จัดเสิร์ฟ', 'b': 'ทำหน้าไก่, หุงข้าว, หมักไก่, จัดเสิร์ฟ', 'c': 'จัดเสิร์ฟ, หุงข้าว, ทำหน้าไก่, หมักไก่', 'd': 'หมักไก่, ทำหน้าไก่, หุงข้าว, จัดเสิร์ฟ', 'answer': 'a', 'subject': 'Recipe Comprehension'}, {'คำถาม': 'การละลายแป้งข้าวโพดต้องทำอย่างไร?', 'a': 'ผสมแป้งข้าวโพดกับน้ำแล้วคนให้เข้ากัน', 'b': 'เติมแป้งข้าวโพดลงไปในน้ำสต๊อก', 'c': 'ผสมแป้งข้าวโพดกับน้ำสต๊อกแล้วคนให้เข้ากัน', 'd': 'ผสมแป้งข้าวโพดกับน้ำมันงา', 'answer': 'c', 'subject': 'Technique Understanding'}, {'คำถาม': 'การเก็บรักษาข้าวหน้าไก่ราชวงศ์ควรทำอย่างไร?', 'a': 'วางไว้ในตู้เย็น', 'b': 'วางไว้ในอุณหภูมิห้อง', 'c': 'อุ่นในไมโครเวฟ', 'd': 'แช่แข็ง', 'answer': 'b', 'subject': 'Food Safety'}]\n"
     ]
    }
   ],
   "source": [
    "print(items)"
   ]
  },
  {
   "cell_type": "code",
   "execution_count": 91,
   "metadata": {},
   "outputs": [
    {
     "name": "stdout",
     "output_type": "stream",
     "text": [
      "1. Ingredient Knowledge:\n",
      "* คำถาม: คุณสามารถใช้ข้าวชนิดอื่นแทนข้าวญี่ปุ่นในการทำคิมบับหรือไม่?\n",
      "\t+ a. ใช้ข้าวกล้อง\n",
      "\t+ b. ใช้ข้าวหอมมะลิ\n",
      "\t+ c. ใช้ข้าวไรย์\n",
      "\t+ d. ใช้ข้าวสังเกตี\n",
      "\t+ answer: b\n",
      "\t+ subject: Thai\n",
      "\t+ explanation: ในสูตรนี้แนะนำให้ใช้ข้าวญี่ปุ่น แต่คุณสามารถใช้ข้าวชนิดอื่นๆ ได้ เช่น ข้าวหอมมะลิ ซึ่งจะมีรสชาติและสัมผัสที่แตกต่างกัน\n",
      "2. Technique Understanding:\n",
      "* คำถาม: สามารถย่างหมูในขั้นตอนการทำให้สุกหรือไม่?\n",
      "\t+ a. ไม่สามารถย่างได้ ต้องหุงเท่านั้น\n",
      "\t+ b. ควรย่างให้สุกมากเพื่อป้องกันเชื้อโรค\n",
      "\t+ c. ควรย่างให้พอดี ไม่ควรสุกเกินไป\n",
      "\t+ d. ควรย่างให้สุกสนิทเพื่อให้หมูนุ่ม\n",
      "\t+ answer: c\n",
      "\t+ subject: Thai\n",
      "\t+ explanation: สูตรแนะนำให้ย่างหมูให้พอดี ไม่ควรสุกเกินไป เพื่อป้องกันหมูเหนียวและแข็ง\n",
      "3. Recipe Comprehension:\n",
      "* คำถาม: ขั้นตอนการห่อคิมบับต้องทำอย่างไร?\n",
      "\t+ a. วางข้าวบนแผ่นสาหร่าย แล้ววางเนื้อหมูลงไป\n",
      "\t+ b. วางเนื้อหมูบนแผ่นสาหร่าย แล้วยังไม่ได้วางข้าว\n",
      "\t+ c. วางผักลงบนแผ่นสาหร่าย ก่อนที่จะวางข้าวและเนื้อหมู\n",
      "\t+ d. วางข้าวบนแผ่นสาหร่าย แล้ววางผักลงไป\n",
      "\t+ answer: a\n",
      "\t+ subject: Thai\n",
      "\t+ explanation: สูตรระบุว่าต้องวางข้าวบนแผ่นสาหร่ายก่อน หลังจากนั้นจึงวางเนื้อหมูและผักลงไป\n",
      "4. Food Safety:\n",
      "* คำถาม: ควรเก็บ CP ชุดรวมหมูกระทะไว้ในตู้เย็นอย่างไร?\n",
      "\t+ a. ทิ้งไว้ในอุณหภูมิห้อง\n",
      "\t+ b. ใส่ถุงพลาสติกแล้วแช่ในช่องฟรีซ\n",
      "\t+ c. ใส่กล่องโฟมแล้วแช่ในช่องธรรมดาของตู้เย็น\n",
      "\t+ d. ใส่ถุงพลาสติกแล้วแช่ในช่องธรรมดาของตู้เย็น\n",
      "\t+ answer: d\n",
      "\t+ subject: Thai\n",
      "\t+ explanation: สูตรแนะนำให้เก็บ CP ชุดรวมหมูกระทะในช่องธรรมดาของตู้เย็น เพื่อให้คงคุณภาพและความสด\n",
      "\n",
      "Note: The provided input does not contain enough information on food safety practices, so no related MCQ was generated.\n"
     ]
    }
   ],
   "source": [
    "print(mcqs[6])"
   ]
  },
  {
   "cell_type": "code",
   "execution_count": 95,
   "metadata": {},
   "outputs": [
    {
     "name": "stdout",
     "output_type": "stream",
     "text": [
      "{'question': 'ในสูตรโยเกิร์ตเค้กนี้ แป้งมันสำปะหลังต้นสนมีหน้าที่สำคัญอย่างไร?', 'a': 'เพิ่มความหวานให้กับเค้ก', 'b': 'ช่วยทำให้เค้กนุ่มฟู', 'c': 'ทำให้เค้กมีกลิ่นหอมเฉพาะตัว', 'd': 'ทำให้น้ำตาลละลายได้ดีขึ้น', 'answer': 'b', 'subject': 'Thai food'}\n",
      "{'question': 'การตีไข่ขาวให้ขึ้นฟองก่อนการผสมกับส่วนผสมอื่นๆ มีประโยชน์อย่างไร?', 'a': 'เพื่อให้เค้กมีสีสันที่สวยงาม', 'b': 'เพื่อให้เค้กมีรสชาติที่หวานมากขึ้น', 'c': 'เพื่อให้เค้กมีเนื้อสัมผัสที่นุ่มฟู', 'd': 'เพื่อให้เค้กมีกลิ่นหอมเฉพาะตัว', 'answer': 'c', 'subject': 'Thai food'}\n",
      "{'question': 'ในการทำโยเกิร์ตเค้ก ควรเริ่มขั้นตอนไหนเป็นคนแรก?', 'a': 'แบ่งไข่ขาวและไข่แดง', 'b': 'เทส่วนผสมเค้กโยเกิร์ตลงในพิมพ์', 'c': 'ตีส่วนผสมโยเกิร์ตเค้ก', 'd': 'วางพิมพ์บนถาดอบก้นลึก', 'answer': 'c', 'subject': 'Thai food'}\n",
      "{'question': 'หลังจากอบโยเกิร์ตเค้กเสร็จ ควรรอให้เค้กเย็นลงก่อนหรือไม่?', 'a': 'ไม่จำเป็นต้องรอ ให้รับประทานได้เลย', 'b': 'ควรรอให้เค้กอุ่นๆ ก่อนจึงค่อยรับประทาน', 'c': 'ควรรอให้เค้กเย็นลงก่อนจึงค่อยรับประทาน', 'd': 'ควรรอให้เค้กเย็นลงก่อน แต่ถ้ารีบทานจะได้รสชาติที่ดีกว่า', 'answer': 'c', 'subject': 'Thai food'}\n",
      "{'question': 'ถ้าไม่มีโยเกิร์ตในบ้าน เราสามารถใช้อะไรแทนได้บ้าง?', 'a': 'น้ำเปล่า', 'b': 'ครีมชีส', 'c': 'เนยแข็ง', 'd': 'วิปปิ้งครีม', 'answer': 'b', 'subject': 'Thai food'}\n",
      "{'question': 'ส่วนผสมใดใช้ในการหมักไก่?', 'a': 'ซีอิ๊วขาว, ซีอิ๊วดำหวาน, พริกไทยป่น, แป้งข้าวโพด', 'b': 'น้ำมันงา, น้ำมันพืช, น้ำสต๊อก, ซอสปรุงรส', 'c': 'น้ำตาลทราย, พริกชี้ฟ้าเขียว, ผักชี, เอโร่ ข้าวหอมปทุมธานี', 'd': 'ไข่ไก่, กระเทียม, มิริน, หอมหัวใหญ่', 'answer': 'a', 'subject': 'Food'}\n",
      "{'question': 'การทอดไก่ควรใช้ความร้อนระดับใด?', 'a': 'ต่ำ', 'b': 'ปานกลาง', 'c': 'สูง', 'd': 'สุดยอด', 'answer': 'b', 'subject': 'Food'}\n",
      "{'question': 'ขั้นตอนการทำข้าวหน้าไก่ราชวงศ์คืออะไรบ้าง?', 'a': 'หมักไก่, หุงข้าว, ทำหน้าไก่, จัดเสิร์ฟ', 'b': 'ทำหน้าไก่, หุงข้าว, หมักไก่, จัดเสิร์ฟ', 'c': 'จัดเสิร์ฟ, หุงข้าว, ทำหน้าไก่, หมักไก่', 'd': 'หมักไก่, ทำหน้าไก่, หุงข้าว, จัดเสิร์ฟ', 'answer': 'a', 'subject': 'Food'}\n",
      "{'question': 'การละลายแป้งข้าวโพดต้องทำอย่างไร?', 'a': 'ผสมแป้งข้าวโพดกับน้ำแล้วคนให้เข้ากัน', 'b': 'เติมแป้งข้าวโพดลงไปในน้ำสต๊อก', 'c': 'ผสมแป้งข้าวโพดกับน้ำสต๊อกแล้วคนให้เข้ากัน', 'd': 'ผสมแป้งข้าวโพดกับน้ำมันงา', 'answer': 'c', 'subject': 'Food'}\n",
      "{'question': 'การเก็บรักษาข้าวหน้าไก่ราชวงศ์ควรทำอย่างไร?', 'a': 'วางไว้ในตู้เย็น', 'b': 'วางไว้ในอุณหภูมิห้อง', 'c': 'อุ่นในไมโครเวฟ', 'd': 'แช่แข็ง', 'answer': 'b', 'subject': 'Food'}\n",
      "{'question': '\"ซูจอน ผลไม้แช่แข็งนิวซีแลนด์\" เป็นส่วนประกอบที่สำคัญใน \"เบอร์รีแฟลตครัวซองต์แซนด์วิช\" เพราะอะไร?', 'a': 'มันใช้แทนครีมในการทำซอส', 'b': 'มันเพิ่มรสชาติเปรี้ยวให้กับซอส', 'c': 'มันใช้ทาบนครัวซองต์ก่อนย่าง', 'd': 'มันใช้เป็นไส้สำหรับแซนด์วิช', 'answer': 'b', 'subject': 'Thai food'}\n",
      "{'question': 'การเตรียมครัวซองต์สำหรับการทำ \"เบอร์รีแฟลตร์ตครัวซองต์แซนด์วิช\" ควรทำอย่างไร?', 'a': 'นำครัวซองต์มาทอดในน้ำมัน', 'b': 'ใช้เครื่องตีไข่ตีให้ฟูแล้วนำไปอบ', 'c': 'รีดให้แบนแล้วทาเนยที่ผสมกับน้ำตาล', 'd': 'หั่นเป็นชิ้นเล็กๆ แล้วนำไปผัด', 'answer': 'c', 'subject': 'Thai food'}\n",
      "{'question': '\"เบอร์รีแฟลตครัวซองต์แซนด์วิช\" ทำเสร็จแล้วควรจัดเสิร์ฟอย่างไร?', 'a': 'จัดใส่ภาชนะร้อน', 'b': 'วางบนโต๊ะอาหารทันที', 'c': 'ตัดแบ่งครึ่งแล้วจัดใส่ภาชนะเย็น', 'd': 'วางบนกระดาษรองอบ', 'answer': 'c', 'subject': 'Thai food'}\n",
      "{'question': 'ก่อนเริ่มการทำ \"เบอร์รีแฟลตครัวซองต์แซนด์วิช\" ควรทำความสะอาดอุปกรณ์และมืออย่างไร?', 'a': 'ล้างด้วยน้ำยาฆ่าเชื้อโรค', 'b': 'ใช้ผ้าขนหนูแห้งเช็ด', 'c': 'ใช้สบู่ล้างมือ', 'd': 'ใช้แปรงสีฟันขัด', 'answer': 'c', 'subject': 'Thai food'}\n",
      "{'question': 'ถ้าไม่สามารถหา \"ซูจอน ผลไม้แช่แข็งนิวซีแลนด์\" ได้ จะสามารถใช้ส่วนประกอบอื่นทดแทนหรือไม่?', 'a': 'ไม่สามารถใช้ทดแทนได้', 'b': 'สามารถใช้กล้วยหรือแอปเปิ้ลแทนได้', 'c': 'สามารถใช้บลูเบอร์รีหรือสตอร์เบอรี่แทนได้', 'd': 'สามารถใช้มะม่วงหรือสัปรดแทนได้', 'answer': 'c', 'subject': 'Thai food'}\n",
      "{'question': 'ในการย่างครัวซองต์ ควรใช้ความร้อนระดับใด?', 'a': 'สูง', 'b': 'ปานกลาง', 'c': 'ต่ำ', 'd': 'ขึ้นอยู่กับชนิดของครัวซองต์', 'answer': 'c', 'subject': 'Thai food'}\n",
      "{'question': 'ในขั้นตอน \"Step 3 : ประกอบร่าง\" ของ \"เบอร์รีแฟลตครัวซองต์แซนด์วิช\" ควรทำอะไรก่อนหรือหลัง?', 'a': 'ตักไอศกรีมวางบนครัวซองต์ชิ้นล่าง', 'b': 'ใส่ซอสเบอร์รีลงบนครัวซองต์', 'c': 'ตั้งครัวซองต์บนกระดาษรองอบ', 'd': 'ราดน้ำตาลไอซิ่งและวางใบสะระแหน่', 'answer': 'c', 'subject': 'Thai food'}\n",
      "{'question': 'หลังจากทำ \"เบอร์รีแฟลตครัวซองต์แซนด์วิช\" เสร็จแล้ว ควรเก็บรักษาอย่างไร?', 'a': 'ปล่อยทิ้งไว้ในอุณหภูมิห้อง', 'b': '', 'c': '', 'd': '', 'answer': '', 'subject': 'Thai food'}\n",
      "{'question': 'ส่วนประกอบใดบ้างที่ใช้ในการทำข้าวอบกุนเชียง?', 'a': ['ข้าวหอม', 'กุนเชียง'], 'b': ['เห็ดหอม', 'แปะก๊วย'], 'c': ['คะน้า', 'ซอสปรุงรส'], 'd': ['แคร์รอต', 'น้ำมันพืช'], 'answer': 'a, b, c, d', 'subject': 'Food'}\n",
      "{'question': 'การเตรียมเอโร่ ข้าวหอมผสม 30%:70% ควรทำอย่างไร?', 'a': ['ไม่ต้องเตรียม', 'ล้างทันที', 'ซาวน้ำ 1-2 รอบ', 'ทิ้งไว้ในตู้เย็น'], 'b': ['ไม่ต้องเตรียม', 'ล้างทันที', 'ซาวน้ำ 1-2 รอบ', 'ทิ้งไว้ในตู้เย็น'], 'c': ['ไม่ต้องเตรียม', 'ล้างทันที', 'ซาวน้ำ 1-2 รอบ', 'ทิ้งไว้ในตู้เย็น'], 'd': ['ไม่ต้องเตรียม', 'ล้างทันที', 'ซาวน้ำ 1-2 รอบ', 'ทิ้งไว้ในตู้เย็น'], 'answer': 'c', 'subject': 'Food'}\n",
      "{'question': 'ขั้นตอนการทำข้าวอบกุนเชียงคืออะไร?', 'a': ['STEP 1: หั่นและเตรียมวัตถุดิบ', 'STEP 2: ทำข้าวอบกุนเชียง', 'STEP 3: จัดเสิร์ฟ'], 'b': ['STEP 1: หั่นและเตรียมวัตถุดิบ', 'STEP 2: ทำข้าวอบกุนเชียง', 'STEP 3: จัดเสิร์ฟ'], 'c': ['STEP 1: หั่นและเตรียมวัตถุดิบ', 'STEP 2: ทำข้าวอบกุนเชียง', 'STEP 3: จัดเสิร์ฟ'], 'd': ['STEP 1: หั่นและเตรียมวัตถุดิบ', 'STEP 2: ทำข้าวอบกุนเชียง', 'STEP 3: จัดเสิร์ฟ'], 'answer': 'b', 'subject': 'Food'}\n",
      "{'question': 'การเก็บรักษาข้าวอบกุนเชียงควรทำอย่างไร?', 'a': ['วางทิ้งไว้ในอุณหภูมิห้อง', 'แช่แข็ง', 'เก็บในภาชนะที่มีฝาปิด', 'วางไว้ในตู้เย็น'], 'b': ['วางทิ้งไว้ในอุณหภูมิห้อง', 'แช่แข็ง', 'เก็บในภาชนะที่มีฝาปิด', 'วางไว้ในตู้เย็น'], 'c': ['วางทิ้งไว้ในอุณหภูมิห้อง', 'แช่แข็ง', 'เก็บในภาชนะที่มีฝาปิด', 'วางไว้ในตู้เย็น'], 'd': ['วางทิ้งไว้ในอุณหภูมิห้อง', 'แช่แข็ง', 'เก็บในภาชนะที่มีฝาปิด', 'วางไว้ในตู้เย็น'], 'answer': 'c', 'subject': 'Food'}\n",
      "{'question': 'การใช้แปะก๊วยในข้าวอบกุนเชียงช่วยเพิ่มรสชาติหรือประโยชน์อะไร?', 'a': ['เพิ่มความหวาน', 'เพิ่มความเค็ม', 'เพิ่มความมัน', 'เพิ่มความกรอบ'], 'b': ['เพิ่มความหวาน', 'เพิ่มความเค็ม', 'เพิ่มความมัน', 'เพิ่มความกรอบ'], 'c': ['เพิ่มความหวาน', 'เพิ่มความเค็ม', 'เพิ่มความมัน', 'เพิ่มความกรอบ'], 'd': ['เพิ่มความหวาน', 'เพิ่มความเค็ม', 'เพิ่มความมัน', 'เพิ่มความกรอบ'], 'answer': 'a', 'subject': 'Food'}\n",
      "{'question': \"สิ่งที่ทำให้ 'จาลาปีโนไบท์' หอมคืออะไร?\", 'a': 'การอบ', 'b': 'การทอด', 'c': 'การผัด', 'd': 'การตุ๋น', 'answer': 'a', 'subject': 'Food'}\n",
      "{'question': \"ถ้าคุณไม่มี 'ครีมชีส' จะใช้สิ่งใดแทน?\", 'a': 'นมสด', 'b': 'โยเกิร์ต', 'c': 'น้ำมะพร้าว', 'd': 'เนย', 'answer': 'b', 'subject': 'Food'}\n",
      "{'question': \"ขั้นตอนแรกในการทำ 'จาลาปีโนไบท์' คือการทำอะไร?\", 'a': 'ฐานเชดดาร์ชีส', 'b': 'ไส้จาลาปีโนไบท์', 'c': 'การอบ', 'd': 'การเตรียมวัตถุดิบ', 'answer': 'a', 'subject': 'Food'}\n",
      "{'question': \"เมื่อต้องการเก็บ 'จาลาปีโนไบท์' ควรทำอย่างไร?\", 'a': 'ควรเก็บไว้ในตู้เย็น', 'b': 'ควรเก็บไว้ในห้องที่มีอุณหภูมิสูง', 'c': 'ควรเก็บไว้ในที่แสงแดดส่อง', 'd': 'ควรเก็บไว้ในภาชนะที่ไม่สะอาด', 'answer': 'a', 'subject': 'Food'}\n",
      "{'question': \"สิ่งที่ทำให้ 'จาลาปีโนไบท์' มีรสเผ็ดคืออะไร?\", 'a': 'พริกไทย', 'b': 'ปาปริก้า', 'c': 'เบคอนกรอบ', 'd': 'เชดดาร์ชีส', 'answer': 'b', 'subject': 'Food'}\n",
      "{'question': 'ไก่ที่ใช้ในการทำ \"เส้นหมี่ไก่ฉีกคั่วกระเทียมพริกไทย\" ควรจะเป็นไก่ชนิดใด?', 'a': 'ไก่สด', 'b': 'ไก่ทอดกรอบ', 'c': 'ไก่ผัดเปรี้ยวหวาน', 'd': 'ไก่ตุ๋น', 'answer': 'a', 'subject': 'Thai food'}\n",
      "{'question': 'กระเทียมควรถูกนำไปต้มเพื่ออะไรในการทำ \"เส้นหมี่ไก่ฉีกคั่วกระเทียมพริกไทย\"?', 'a': 'เพิ่มความหวาน', 'b': 'ลดกลิ่นคาว', 'c': 'ทำให้กระเทียมแข็ง', 'd': 'เพิ่มสีสัน', 'answer': 'b', 'subject': 'Thai food'}\n",
      "{'question': 'ขั้นตอนการทำ \"เส้นหมี่ไก่ฉีกคั่วกระเทียมพริกไทย\" คืออะไรบ้าง?', 'a': 'ทำไก่ฉีก -> ปรุงเส้น -> คั่วไก่ -> จัดเสิร์ฟ', 'b': 'ลวกเส้น -> ทำไก่ฉีก -> ปรุงเส้น -> คั่วไก่ -> จัดเสิร์ฟ', 'c': 'ทำไก่ฉีก -> ปรุงเส้น -> ลวกเส้น -> คั่วไก่ -> จัดเสิร์ฟ', 'd': 'ลวกเส้น -> ทำไก่ฉีก -> คั่วไก่ -> ปรุงเส้น -> จัดเสิร์ฟ', 'answer': 'a', 'subject': 'Thai food'}\n",
      "{'question': 'หลังจากที่ไก่ถูกต้มเสร็จแล้ว, ควรทำอย่างไรเพื่อให้ไก่ปลอดภัยต่อการบริโภค?', 'a': 'ทิ้งทันที', 'b': 'ปล่อยทิ้งไว้ในอุณหภูมิห้อง', 'c': 'หั่นไก่เป็นชิ้นๆ', 'd': 'ฉีกไก่ให้เป็นเส้น', 'answer': 'b', 'subject': 'Thai food'}\n",
      "{'question': 'ถ้าต้องการเพิ่มรสชาติให้กับ \"เส้นหมี่ไก่ฉีกคั่วกระเทียมพริกไทย\", ควรใช้ส่วนประกอบใด?', 'a': 'น้ำตาล', 'b': 'ซีอิ๊วขาว', 'c': 'พริกไทย', 'd': 'กระเทียม', 'answer': 'b', 'subject': 'Thai food'}\n",
      "{'question': 'คุณสามารถใช้ข้าวชนิดอื่นแทนข้าวญี่ปุ่นในการทำคิมบับหรือไม่?', 'a': 'ใช้ข้าวกล้อง', 'b': 'ใช้ข้าวหอมมะลิ', 'c': 'ใช้ข้าวไรย์', 'd': 'ใช้ข้าวสังเกตี', 'answer': 'b', 'subject': 'Thai food'}\n",
      "{'question': 'สามารถย่างหมูในขั้นตอนการทำให้สุกหรือไม่?', 'a': 'ไม่สามารถย่างได้ ต้องหุงเท่านั้น', 'b': 'ควรย่างให้สุกมากเพื่อป้องกันเชื้อโรค', 'c': 'ควรย่างให้พอดี ไม่ควรสุกเกินไป', 'd': 'ควรย่างให้สุกสนิทเพื่อให้หมูนุ่ม', 'answer': 'c', 'subject': 'Thai food'}\n",
      "{'question': 'ขั้นตอนการห่อคิมบับต้องทำอย่างไร?', 'a': 'วางข้าวบนแผ่นสาหร่าย แล้ววางเนื้อหมูลงไป', 'b': 'วางเนื้อหมูบนแผ่นสาหร่าย แล้วยังไม่ได้วางข้าว', 'c': 'วางผักลงบนแผ่นสาหร่าย ก่อนที่จะวางข้าวและเนื้อหมู', 'd': 'วางข้าวบนแผ่นสาหร่าย แล้ววางผักลงไป', 'answer': 'a', 'subject': 'Thai food'}\n",
      "{'question': 'ควรเก็บ CP ชุดรวมหมูกระทะไว้ในตู้เย็นอย่างไร?', 'a': 'ทิ้งไว้ในอุณหภูมิห้อง', 'b': 'ใส่ถุงพลาสติกแล้วแช่ในช่องฟรีซ', 'c': 'ใส่กล่องโฟมแล้วแช่ในช่องธรรมดาของตู้เย็น', 'd': 'ใส่ถุงพลาสติกแล้วแช่ในช่องธรรมดาของตู้เย็น', 'answer': 'd', 'subject': 'Thai food'}\n",
      "{'question': 'ไฮนซ์ แอปเปิลไซเดอร์ มีประโยชน์อย่างไร?', 'a': 'เป็นยาแก้ปวดหัว', 'b': 'ใช้ในการทำขนมหวาน', 'c': 'ใช้ในการทำความสะอาดบ้าน', 'd': 'ใช้ในการทำเครื่องปรุงรส', 'answer': 'b', 'subject': 'Thai food'}\n",
      "{'question': 'การทำลาเต้ควรใช้น้ำแข็งหรือไม่?', 'a': 'ไม่จำเป็นต้องใช้', 'b': 'ควรใช้เพื่อเพิ่มความเย็น', 'c': 'ควรใช้เพื่อเพิ่มรสชาติ', 'd': 'ควรใช้เพื่อเพิ่มความเข้มข้นของกาแฟ', 'answer': 'b', 'subject': 'Thai food'}\n",
      "{'question': 'ในขั้นตอนการทำแอปเปิลไซเดอร์ลาเต้ เราต้องทำอะไรก่อน?', 'a': 'เทกาแฟลงในแก้ว', 'b': 'หยอดน้ำแข็งลงในแก้ว', 'c': 'เทนมโอ๊ตลงในแก้ว', 'd': 'ผสมแอปเปิลไซเดอร์', 'answer': 'd', 'subject': 'Thai food'}\n",
      "{'question': 'หลังจากที่เราทำแอปเปิลไซเดอร์ลาเต้เสร็จแล้ว เราควรเก็บมันไว้ในตู้เย็นหรือไม่?', 'a': 'ต้องเก็บ', 'b': 'ไม่ต้องเก็บ', 'c': 'ขึ้นอยู่กับว่าเราจะดื่มหมดในวันเดียวหรือไม่', 'd': 'ขึ้นอยู่กับว่าเราจะดื่มทันทีหรือไม่', 'answer': 'a', 'subject': 'Thai food'}\n",
      "{'question': 'ในการทำแอปเปิลไซเดอร์ลาเต้ เราต้องใช้วิปครีมหรือไม่?', 'a': 'จำเป็นต้องใช้', 'b': 'ไม่จำเป็นต้องใช้', 'c': 'ขึ้นอยู่กับว่าจะดื่มทันทีหรือไม่', 'd': 'ขึ้นอยู่กับว่าต้องการตกแต่งหรือไม่', 'answer': 'b', 'subject': 'Thai food'}\n",
      "{'question': 'ถ้าคุณไม่มีแอปเปิลไซเดอร์ คุณสามารถใช้สิ่งใดแทนได้?', 'a': 'น้ำตาล', 'b': 'น้ำมะนาว', 'c': 'น้ำเปล่า', 'd': 'น้ำเชื่อม', 'answer': 'c', 'subject': 'Thai food'}\n",
      "{'question': 'เมื่อผสมแอปเปิลไซเดอร์แล้ว ควรรอให้น้ำผึ้งละลายหรือไม่?', 'a': 'ต้องรอให้น้ำผึ้งละลาย', 'b': 'ไม่ต้องรอ', 'c': 'ขึ้นอยู่กับอุณหภูมิห้อง', 'd': 'ขึ้นอยู่กับเวลาที่ใช้ในการผสม', 'answer': 'b', 'subject': 'Thai food'}\n",
      "{'question': 'ในการทำแอปเปิลไซเดอร์ลาเต้ เราต้องเติมน้ำผึ้งหรือไม่?', 'a': 'จำเป็นต้องใช้', 'b': 'ไม่จำเป็นต้องใช้', 'c': 'ขึ้นอยู่กับว่าคุณชอบหวานหรือไม่', 'd': 'ขึ้นอยู่กับว่าคุณต้องการให้ลาเต้หวานหรือไม่', 'answer': 'b', 'subject': 'Thai food'}\n",
      "{'question': 'หลังจากที่เราทำแอปเปิลไซเดอร์ลาเต้เสร็จแล้ว เราควรทิ้งมันไว้ในตู้เย็นนานกี่วัน?', 'a': '1 วัน', 'b': '2 วัน', 'c': '3 วัน', 'd': 'ขึ้นอยู่กับคุณภาพของวัตถุดิบ', 'answer': 'c', 'subject': 'Thai food'}\n",
      "{'question': 'ในขั้นตอนการผัดข้าว, ทำไมต้องใช้ไข่ไก่?', 'a': 'เป็นสารช่วยเพิ่มความหวาน', 'b': 'ใช้แทนน้ำมันในการผัด', 'c': 'ช่วยทำให้ข้าวมีความเหนียวขึ้น', 'd': 'เพิ่มความหอมให้กับข้าว', 'answer': 'c', 'subject': 'Thai food'}\n",
      "{'question': 'สาเหตุที่ต้องปล่อยข้าวให้ระอุหลังจากหุงเสร็จคืออะไร?', 'a': 'เพื่อให้ข้าวแห้ง', 'b': 'ทำให้ข้าวมีกลิ่นหอม', 'c': 'เพื่อให้ข้าวมีความเหนียวขึ้น', 'd': 'เพื่อให้ข้าวเย็นลง', 'answer': 'c', 'subject': 'Thai food'}\n",
      "{'question': 'ถ้าไม่มีต้นหอมซอยจะทำอย่างไร?', 'a': 'ไม่จำเป็นต้องใช้', 'b': 'ใช้ผักชีแทน', 'c': 'ใช้ใบกะเพราแทน', 'd': 'ใช้ใบโหรพาแทน', 'answer': 'b', 'subject': 'Thai food'}\n",
      "{'question': 'ควรล้างแซลมอนก่อนหรือไม่?', 'a': 'ต้องล้างเพื่อทำความสะอาด', 'b': 'ไม่ต้องล้างเพราะจะทำให้เสียรสชาติ', 'c': 'ล้างได้แต่ไม่ควรล้างน้ำแข็ง', 'd': 'ล้างไม่ได้เพราะจะทำให้สกปรกมากขึ้น', 'answer': 'a', 'subject': 'Thai food'}\n",
      "{'question': 'ในขั้นตอนการทำไส้กระฉีก, เราต้องใช้มะพร้าวขูดเส้น, น้ำตาลมะพร้าว, น้ำตาลทราย, เกลือป่น, และน้ำเปล่า ในการผัดไส้ กระนั้นเราไม่สามารถหาซื้อมะพร้าวขูดเส้นได้ที่ร้านค้าใกล้บ้านของเรา เราควรทำอย่างไร?', 'a': 'ใช้กล้วยแทนมะพร้าวขูดเส้น', 'b': 'ใช้แป้งข้าวเจ้าแทนน้ำตาลมะพร้าว', 'c': 'ใช้เกลือป่นแทนน้ำตาลทราย', 'd': 'ใช้น้ำเปล่าแทนน้ำมันพืช', 'answer': '', 'subject': 'Thai food', 'e': 'ไม่จำเป็นต้องเปลี่ยนส่วนผสม'}\n",
      "{'question': 'การทำขนมใส่ไส้ดอกไม้ ต้องการการใช้แป้งถั่วเขียวต้นสนในการทำแป้งห่อไส้ แต่ถ้าไม่มีแป้งถั่วเขียวต้นสน เราสามารถใช้แป้งชนิดอื่นทดแทนได้หรือไม่?', 'a': 'ใช้แป้งข้าวเจ้าแทนแป้งถั่วเขียวต้นสน', 'b': 'ใช้แป้งข้าวเหนียวแทนแป้งถั่วเขียวต้นสน', 'c': 'ใช้แป้งมันสำปะหลังแทนแป้งถั่วเขียวต้นสน', 'd': 'ใช้แป้งเค้กแทนแป้งถั่วเขียวต้นสน', 'answer': 'b', 'subject': 'Thai food', 'e': 'ไม่สามารถใช้แป้งชนิดอื่นแทนแป้งถั่วเขียวต้นสน'}\n",
      "{'question': 'ในขั้นตอนการทำขนมใส่ไส้ดอกไม้, เราจะต้องทำการต้มขนมใส่ไส้หลังจากที่เราเตรียมแป้งและไส้เรียบร้อยแล้ว ถ้าเราไม่ได้ทำการต้มขนมใส่ไส้, ผลกระทบที่จะเกิดขึ้นคืออะไร?', 'a': 'ขนมจะไม่สุก', 'b': 'ไส้จะไม่ถูกห่อด้วยแป้ง', 'c': 'ขนมจะไม่มีรสชาติ', 'd': 'ขนมจะไม่เซ็ตตัว', 'answer': 'b', 'subject': 'Thai food', 'e': 'ไม่มีผลกระทบใดๆ'}\n",
      "{'question': 'ในขั้นตอนการทำกะทิ, เราต้องใส่น้ำตาลทรายและน้ำตาลมะพร้าวลงไปในหม้อก่อนที่จะเริ่มคน เพื่อให้ส่วนผสมทั้งหมดละลายและเข้ากันได้ดี ถ้าเราไม่ใส่น้ำตาลมะพร้าวลงไป, ผลกระทบที่จะเกิดขึ้นคืออะไร?', 'a': 'กะทิจะไม่หวาน', 'b': 'กะทิจะไม่ข้น', 'c': 'กะทิจะไม่หอม', 'd': 'กะทิจะไม่มีรสชาติ', 'answer': 'a', 'subject': 'Thai food', 'e': 'ไม่มีผลกระทบใดๆ'}\n",
      "{'question': 'ในขั้นตอนการทำขนมใส่ไส้ดอกไม้, เราต้องทำการต้มขนมใส่ไส้ หลังจากที่เราเตรียมแป้งและไส้เรียบร้อยแล้ว ถ้าเราไม่ได้ทำการต้มขนมใส่ไส้, ผลกระทบที่จะเกิดขึ้นคืออะไร?', 'a': 'ขนมจะไม่สุก', 'b': 'ไส้จะไม่ถูกห่อด้วยแป้ง', 'c': 'ขนมจะไม่มีรสชาติ', 'd': 'ขนมจะไม่เซ็ตตัว', 'answer': 'b', 'subject': 'Thai food', 'e': 'ไม่มีผลกระทบใดๆ'}\n",
      "{'question': 'ในขั้นตอนการทำขนมใส่ไส้ดอกไม้, เราต้องทำการต้มขนมใส่ไส้ หลังจากที่เราเตรียมแป้งและไส้เรียบร้อยแล้ว ถ้าเราไม่ได้ทำการต้มขนมใส่ไส้, ผลกระทบที่จะเกิดขึ้นคืออะไร?', 'a': 'ขนมจะไม่สุก', 'b': 'ไส้จะไม่ถูกห่อด้วยแป้ง', 'c': 'ขนมจะไม่มีรสชาติ', 'd': 'ขนมจะไม่เซ็ตตัว', 'answer': 'b', 'subject': 'Thai food', 'e': 'ไม่มีผลกระทบใดๆ'}\n",
      "{'question': 'ในขั้นตอนการทำขนมใส่ไส้ดอกไม้, เราต้องทำการต้มขนมใส่ไส้ หลังจากที่เราเตรียมแป้งและไส้เรียบร้อยแล้ว ถ้าเราไม่ได้ทำการต้มขนมใส่ไส้, ผลกระทบที่จะเกิดขึ้นคืออะไร?', 'a': 'ขนมจะไม่สุก', 'b': 'ไส้จะไม่ถูกห่อด้วยแป้ง', 'c': 'ขนมจะไม่มีรสชาติ', 'd': 'ขนมจะไม่เซ็ตตัว', 'answer': 'b', 'subject': 'Thai food', 'e': 'ไม่มีผลกระทบใดๆ'}\n",
      "{'question': 'ในขั้นตอนการทำขนมใส่ไส้ดอกไม้, เราต้องทำการต้มขนมใส่ไส้ หลังจากที่เราเตรียมแป้งและไส้เรียบร้อยแล้ว ถ้าเราไม่ได้ทำการต้มขนมใส่ไส้, ผลกระทบที่จะเกิดขึ้นคืออะไร?', 'a': 'ขนมจะไม่สุก', 'b': '', 'c': '', 'd': '', 'answer': '', 'subject': 'Thai food'}\n"
     ]
    }
   ],
   "source": [
    "import re\n",
    "import json\n",
    "\n",
    "def extract_exam_items(texts):\n",
    "    \"\"\"Extracts exam items from a list of Thai texts in various formats and returns them as a list of dictionaries.\n",
    "\n",
    "    Args:\n",
    "        texts: A list of strings, each containing text with exam items.\n",
    "\n",
    "    Returns:\n",
    "        A list of dictionaries, each representing an exam item.\n",
    "    \"\"\"\n",
    "    all_exam_items = []\n",
    "    for text in texts:\n",
    "        # Check if the text is in JSON format\n",
    "        if text.startswith(\"*\"):\n",
    "            try:\n",
    "                items = extract_valid_json(text.split(\"*\"))\n",
    "                for item in items:\n",
    "                    # Extract the question, answer, and subject values\n",
    "                    question = item.pop(\"คำถาม\")\n",
    "                    answer = item.pop(\"answer\")\n",
    "                    subject = item.pop(\"subject\")\n",
    "                    \n",
    "                    # Create a new dictionary with the desired order\n",
    "                    new_item = {\n",
    "                        \"question\": question,\n",
    "                        \"a\": item.pop(\"a\"),\n",
    "                        \"b\": item.pop(\"b\"),\n",
    "                        \"c\": item.pop(\"c\"),\n",
    "                        \"d\": item.pop(\"d\"),\n",
    "                        \"answer\": answer,\n",
    "                        \"subject\": \"Food\"\n",
    "                    }\n",
    "\n",
    "                    # Update the original item with the new dictionary\n",
    "                    item.clear()  # Clear the original dictionary\n",
    "                    item.update(new_item)  # Update with the new dictionary\n",
    "                all_exam_items.extend(items)\n",
    "                continue  # Skip the rest of the loop if JSON parsing is successful\n",
    "            except json.JSONDecodeError:\n",
    "                pass  # If not valid JSON, continue to the next format\n",
    "\n",
    "        # Regular expressions for extracting different parts of the exam items\n",
    "        question_pattern = r\"คำถาม:\\s*(.+)\"\n",
    "        choice_pattern = r\"([a-e])[.)]\\s*(.+)\"\n",
    "        answer_pattern = r\"(?:คำตอบ|answer):\\s*([a-d])[\\)]*\" \n",
    "\n",
    "        # Find all questions in the current text\n",
    "        question_matches = re.finditer(question_pattern, text)\n",
    "\n",
    "        exam_items = []\n",
    "        for question_match in question_matches:\n",
    "            item = {\n",
    "                \"question\": question_match.group(1).strip(),\n",
    "                \"a\": \"\",\n",
    "                \"b\": \"\",\n",
    "                \"c\": \"\",\n",
    "                \"d\": \"\",\n",
    "                \"answer\": \"\",\n",
    "                \"subject\": \"Thai food\"  # Default subject (can be updated from text)\n",
    "            }\n",
    "\n",
    "            # Find choices and answer for the current question\n",
    "            start = question_match.end()\n",
    "            end = text.find(\"คำถาม:\", start) if text.find(\"คำถาม:\", start) != -1 else len(text)\n",
    "            question_text = text[start:end]\n",
    "\n",
    "            for choice_match in re.finditer(choice_pattern, question_text):\n",
    "                item[choice_match.group(1)] = choice_match.group(2).strip()\n",
    "\n",
    "            answer_match = re.search(answer_pattern, question_text)\n",
    "            if answer_match:\n",
    "                item[\"answer\"] = answer_match.group(1)\n",
    "\n",
    "            # # Update subject if found in the question text\n",
    "            # subject_match = re.search(r\"subject:\\s*(\\w+)\", question_text)\n",
    "            # if subject_match:\n",
    "            #     item[\"subject\"] = subject_match.group(1)\n",
    "\n",
    "            exam_items.append(item)\n",
    "        all_exam_items.extend(exam_items)\n",
    "    return all_exam_items\n",
    "\n",
    "# Extract exam items from the list of texts\n",
    "extracted_items = extract_exam_items(mcqs)\n",
    "for item in extracted_items:\n",
    "  print(item)\n"
   ]
  },
  {
   "cell_type": "code",
   "execution_count": 75,
   "metadata": {},
   "outputs": [],
   "source": [
    "import jsonlines"
   ]
  },
  {
   "cell_type": "code",
   "execution_count": 96,
   "metadata": {},
   "outputs": [],
   "source": [
    "with jsonlines.open(\"exam_gen_data.jsonl\", mode='w') as writer:\n",
    "    for item in extracted_items:  # exam_data คือ list ของ dictionaries ที่เก็บข้อมูลข้อสอบ\n",
    "        writer.write(item)"
   ]
  },
  {
   "cell_type": "code",
   "execution_count": 22,
   "metadata": {},
   "outputs": [],
   "source": [
    "with open(\"MCQs_saved.txt\", \"w\") as f:\n",
    "    for mcq in mcqs:\n",
    "        f.write(mcq)\n",
    "        f.write(\"\\n\")"
   ]
  },
  {
   "cell_type": "code",
   "execution_count": null,
   "metadata": {},
   "outputs": [],
   "source": []
  }
 ],
 "metadata": {
  "kernelspec": {
   "display_name": "base",
   "language": "python",
   "name": "python3"
  },
  "language_info": {
   "codemirror_mode": {
    "name": "ipython",
    "version": 3
   },
   "file_extension": ".py",
   "mimetype": "text/x-python",
   "name": "python",
   "nbconvert_exporter": "python",
   "pygments_lexer": "ipython3",
   "version": "3.11.7"
  }
 },
 "nbformat": 4,
 "nbformat_minor": 2
}
